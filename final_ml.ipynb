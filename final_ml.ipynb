{
 "cells": [
  {
   "cell_type": "code",
   "execution_count": 1,
   "id": "8c953265-c9c5-4e17-b807-8a27b20437a0",
   "metadata": {},
   "outputs": [
    {
     "name": "stdout",
     "output_type": "stream",
     "text": [
      "Accuracy: 1.0\n",
      "Classification Report:\n",
      "                                          precision    recall  f1-score   support\n",
      "\n",
      "(vertigo) Paroymsal  Positional Vertigo       1.00      1.00      1.00        18\n",
      "                                   AIDS       1.00      1.00      1.00        30\n",
      "                                   Acne       1.00      1.00      1.00        24\n",
      "                    Alcoholic hepatitis       1.00      1.00      1.00        25\n",
      "                                Allergy       1.00      1.00      1.00        24\n",
      "                              Arthritis       1.00      1.00      1.00        23\n",
      "                       Bronchial Asthma       1.00      1.00      1.00        33\n",
      "                   Cervical spondylosis       1.00      1.00      1.00        23\n",
      "                            Chicken pox       1.00      1.00      1.00        21\n",
      "                    Chronic cholestasis       1.00      1.00      1.00        15\n",
      "                            Common Cold       1.00      1.00      1.00        23\n",
      "                                 Dengue       1.00      1.00      1.00        26\n",
      "                              Diabetes        1.00      1.00      1.00        21\n",
      "           Dimorphic hemmorhoids(piles)       1.00      1.00      1.00        29\n",
      "                          Drug Reaction       1.00      1.00      1.00        24\n",
      "                       Fungal infection       1.00      1.00      1.00        19\n",
      "                                   GERD       1.00      1.00      1.00        28\n",
      "                        Gastroenteritis       1.00      1.00      1.00        25\n",
      "                           Heart attack       1.00      1.00      1.00        23\n",
      "                            Hepatitis B       1.00      1.00      1.00        27\n",
      "                            Hepatitis C       1.00      1.00      1.00        26\n",
      "                            Hepatitis D       1.00      1.00      1.00        23\n",
      "                            Hepatitis E       1.00      1.00      1.00        29\n",
      "                          Hypertension        1.00      1.00      1.00        25\n",
      "                        Hyperthyroidism       1.00      1.00      1.00        24\n",
      "                           Hypoglycemia       1.00      1.00      1.00        26\n",
      "                         Hypothyroidism       1.00      1.00      1.00        21\n",
      "                               Impetigo       1.00      1.00      1.00        24\n",
      "                               Jaundice       1.00      1.00      1.00        19\n",
      "                                Malaria       1.00      1.00      1.00        22\n",
      "                               Migraine       1.00      1.00      1.00        25\n",
      "                        Osteoarthristis       1.00      1.00      1.00        22\n",
      "           Paralysis (brain hemorrhage)       1.00      1.00      1.00        24\n",
      "                    Peptic ulcer diseae       1.00      1.00      1.00        17\n",
      "                              Pneumonia       1.00      1.00      1.00        28\n",
      "                              Psoriasis       1.00      1.00      1.00        22\n",
      "                           Tuberculosis       1.00      1.00      1.00        25\n",
      "                                Typhoid       1.00      1.00      1.00        19\n",
      "                Urinary tract infection       1.00      1.00      1.00        26\n",
      "                         Varicose veins       1.00      1.00      1.00        22\n",
      "                            hepatitis A       1.00      1.00      1.00        34\n",
      "\n",
      "                               accuracy                           1.00       984\n",
      "                              macro avg       1.00      1.00      1.00       984\n",
      "                           weighted avg       1.00      1.00      1.00       984\n",
      "\n"
     ]
    }
   ],
   "source": [
    "import pandas as pd\n",
    "from sklearn.model_selection import train_test_split\n",
    "from sklearn.tree import DecisionTreeClassifier  # Use DecisionTreeRegressor for regression tasks\n",
    "from sklearn.metrics import accuracy_score, classification_report  # Use appropriate metrics for regression\n",
    "\n",
    "data = pd.read_csv(r\"C:\\College_Project\\TRY!\\Dataset\\training.csv\")\n",
    "\n",
    "X = data.drop(columns=['prognosis'])\n",
    "y = data['prognosis']\n",
    "\n",
    "X_train, X_test, y_train, y_test = train_test_split(X, y, test_size=0.2, random_state=42)\n",
    "\n",
    "model = DecisionTreeClassifier(random_state=42)  # Use DecisionTreeRegressor() for regression tasks\n",
    "\n",
    "model.fit(X_train, y_train)\n",
    "\n",
    "y_pred = model.predict(X_test)\n",
    "\n",
    "print(\"Accuracy:\", accuracy_score(y_test, y_pred))\n",
    "print(\"Classification Report:\\n\", classification_report(y_test, y_pred))"
   ]
  },
  {
   "cell_type": "code",
   "execution_count": 2,
   "id": "d6bf31b7-33cd-44f1-86ae-a09c86a8ecc2",
   "metadata": {},
   "outputs": [],
   "source": [
    "import pickle"
   ]
  },
  {
   "cell_type": "code",
   "execution_count": 5,
   "id": "82da3b70-7f7c-4338-ba81-669f0e7e206f",
   "metadata": {},
   "outputs": [],
   "source": [
    "import pickle\n",
    "with open('final_ml_api.pkl', 'wb') as model_file:\n",
    "    pickle.dump(model, model_file)"
   ]
  }
 ],
 "metadata": {
  "kernelspec": {
   "display_name": "Python 3 (ipykernel)",
   "language": "python",
   "name": "python3"
  },
  "language_info": {
   "codemirror_mode": {
    "name": "ipython",
    "version": 3
   },
   "file_extension": ".py",
   "mimetype": "text/x-python",
   "name": "python",
   "nbconvert_exporter": "python",
   "pygments_lexer": "ipython3",
   "version": "3.11.7"
  }
 },
 "nbformat": 4,
 "nbformat_minor": 5
}
